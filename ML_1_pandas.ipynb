{
 "nbformat": 4,
 "nbformat_minor": 0,
 "metadata": {
  "colab": {
   "provenance": []
  },
  "kernelspec": {
   "name": "python3",
   "language": "python",
   "display_name": "Python 3 (ipykernel)"
  },
  "language_info": {
   "name": "python"
  }
 },
 "cells": [
  {
   "cell_type": "code",
   "execution_count": 2,
   "metadata": {
    "colab": {
     "base_uri": "https://localhost:8080/"
    },
    "id": "Y5i9M00S6xmL",
    "outputId": "823efd16-fb86-4644-f190-6bb097f02955",
    "ExecuteTime": {
     "end_time": "2024-01-14T06:06:29.243548200Z",
     "start_time": "2024-01-14T06:06:29.165280200Z"
    }
   },
   "outputs": [
    {
     "name": "stdout",
     "output_type": "stream",
     "text": [
      "['.idea', 'Flights.png', 'ML_1_pandas.ipynb', 'ML_2_Matplotlib_Seaborn_Plotly.ipynb']\n"
     ]
    }
   ],
   "source": [
    "import sys\n",
    "import numpy as np,pandas as pd\n",
    "import os\n",
    "# OS is the best way to manipulate dirs and environment variables and even the time stamp when the last time it was modified and even the extension of the file from the given path\n",
    "print(os.listdir())"
   ]
  },
  {
   "cell_type": "code",
   "source": [
    "a=np.array([1,2,3])\n",
    "b=np.array([1,3,5])\n",
    "print(a.dtype)\n",
    "print(a.ndim)\n",
    "print(a*b)\n",
    "np.ones((5,))\n",
    "# numpy arrays are much faster as it fixes the data type"
   ],
   "metadata": {
    "colab": {
     "base_uri": "https://localhost:8080/"
    },
    "id": "5PR9Jf8bbLWt",
    "outputId": "a018ef40-bf6e-4391-d1b5-6c327b595e94",
    "ExecuteTime": {
     "end_time": "2024-01-14T06:06:29.354388400Z",
     "start_time": "2024-01-14T06:06:29.185597700Z"
    }
   },
   "execution_count": 3,
   "outputs": [
    {
     "name": "stdout",
     "output_type": "stream",
     "text": [
      "int32\n",
      "1\n",
      "[ 1  6 15]\n"
     ]
    },
    {
     "data": {
      "text/plain": "array([1., 1., 1., 1., 1.])"
     },
     "execution_count": 3,
     "metadata": {},
     "output_type": "execute_result"
    }
   ]
  },
  {
   "cell_type": "markdown",
   "source": [
    "CHECK FROM GOOGLE COLLAB"
   ],
   "metadata": {
    "collapsed": false
   }
  },
  {
   "cell_type": "code",
   "source": [
    "movies = pd.read_csv('http://bit.ly/imdbratings')\n",
    "print(type(movies))"
   ],
   "metadata": {
    "colab": {
     "base_uri": "https://localhost:8080/"
    },
    "id": "4GBwaE4TEue1",
    "outputId": "02259218-395c-4833-acf3-d2321cb52e85",
    "ExecuteTime": {
     "end_time": "2024-01-14T06:06:37.163190400Z",
     "start_time": "2024-01-14T06:06:29.197857200Z"
    }
   },
   "execution_count": 4,
   "outputs": [
    {
     "name": "stdout",
     "output_type": "stream",
     "text": [
      "<class 'pandas.core.frame.DataFrame'>\n"
     ]
    }
   ]
  },
  {
   "cell_type": "code",
   "source": [
    "print(movies.describe())\n",
    "print(type(movies.describe()))\n",
    "print(movies.describe(include=['object']))"
   ],
   "metadata": {
    "colab": {
     "base_uri": "https://localhost:8080/"
    },
    "id": "94G7Cj9rE8jy",
    "outputId": "e7992128-f2c6-4a6f-a1bf-972122e9aa0f",
    "ExecuteTime": {
     "end_time": "2024-01-14T06:06:37.256638400Z",
     "start_time": "2024-01-14T06:06:37.166188100Z"
    }
   },
   "execution_count": 5,
   "outputs": [
    {
     "name": "stdout",
     "output_type": "stream",
     "text": [
      "       star_rating    duration\n",
      "count   979.000000  979.000000\n",
      "mean      7.889785  120.979571\n",
      "std       0.336069   26.218010\n",
      "min       7.400000   64.000000\n",
      "25%       7.600000  102.000000\n",
      "50%       7.800000  117.000000\n",
      "75%       8.100000  134.000000\n",
      "max       9.300000  242.000000\n",
      "<class 'pandas.core.frame.DataFrame'>\n",
      "          title content_rating  genre  \\\n",
      "count       979            976    979   \n",
      "unique      975             12     16   \n",
      "top     Dracula              R  Drama   \n",
      "freq          2            460    278   \n",
      "\n",
      "                                              actors_list  \n",
      "count                                                 979  \n",
      "unique                                                969  \n",
      "top     [u'Daniel Radcliffe', u'Emma Watson', u'Rupert...  \n",
      "freq                                                    6  \n"
     ]
    }
   ]
  },
  {
   "cell_type": "code",
   "source": [
    "ufo=pd.read_csv('http://bit.ly/uforeports')\n",
    "print(ufo.columns)\n",
    "ufo.rename(columns={'Colors Reported':'Colors_Reported'},inplace=True) # inplace as the name suggests changes the key column name to value column name and store in same data frame\n",
    "\n",
    "# if want to rename all\n",
    "ufo_cols=['a','b','c','d','e']\n",
    "ufo.columns=ufo_cols\n",
    "print(ufo.columns)\n",
    "\n",
    "\n",
    "# if we want all column headings to have _ instead of space then\n",
    "ufo=pd.read_csv('http://bit.ly/uforeports')\n",
    "ufo.columns=ufo.columns.str.replace(' ','_')\n",
    "print(ufo.columns)\n"
   ],
   "metadata": {
    "colab": {
     "base_uri": "https://localhost:8080/"
    },
    "id": "SLkJ-D93l3z6",
    "outputId": "08c21112-df86-4dd1-adfb-7fa378c41011",
    "ExecuteTime": {
     "end_time": "2024-01-14T06:06:53.289237800Z",
     "start_time": "2024-01-14T06:06:37.207701600Z"
    }
   },
   "execution_count": 6,
   "outputs": [
    {
     "name": "stdout",
     "output_type": "stream",
     "text": [
      "Index(['City', 'Colors Reported', 'Shape Reported', 'State', 'Time'], dtype='object')\n",
      "Index(['a', 'b', 'c', 'd', 'e'], dtype='object')\n",
      "Index(['City', 'Colors_Reported', 'Shape_Reported', 'State', 'Time'], dtype='object')\n"
     ]
    }
   ]
  },
  {
   "cell_type": "code",
   "source": [
    "# How to Remove column from a DataFrame\n",
    "\n",
    "ufo=pd.read_csv('http://bit.ly/uforeports')\n",
    "\n",
    "# axis=0 row , axis=1 column\n",
    "ufo.drop(['Colors Reported','City'],axis=1,inplace=True)\n",
    "print(ufo.head())\n",
    "\n",
    "# How to remove row\n",
    "ufo.drop([0,1],axis=0,inplace=True)\n",
    "print(ufo.head())"
   ],
   "metadata": {
    "colab": {
     "base_uri": "https://localhost:8080/"
    },
    "id": "LbZRCTqBpGIj",
    "outputId": "3a7cc189-5ca8-4952-80b5-dbb322080460",
    "ExecuteTime": {
     "end_time": "2024-01-14T06:07:01.739345800Z",
     "start_time": "2024-01-14T06:06:53.291237500Z"
    }
   },
   "execution_count": 7,
   "outputs": [
    {
     "name": "stdout",
     "output_type": "stream",
     "text": [
      "  Shape Reported State             Time\n",
      "0       TRIANGLE    NY   6/1/1930 22:00\n",
      "1          OTHER    NJ  6/30/1930 20:00\n",
      "2           OVAL    CO  2/15/1931 14:00\n",
      "3           DISK    KS   6/1/1931 13:00\n",
      "4          LIGHT    NY  4/18/1933 19:00\n",
      "  Shape Reported State             Time\n",
      "2           OVAL    CO  2/15/1931 14:00\n",
      "3           DISK    KS   6/1/1931 13:00\n",
      "4          LIGHT    NY  4/18/1933 19:00\n",
      "5           DISK    ND  9/15/1934 15:30\n",
      "6         CIRCLE    CA   6/15/1935 0:00\n"
     ]
    }
   ]
  },
  {
   "cell_type": "code",
   "source": [
    "# How can we sort a pandas data frame or series\n",
    "movies=pd.read_csv('http://bit.ly/imdbratings')\n",
    "\n",
    "# Sorting a series not inplace - adding inplace=True changes movies but without it , it will not\n",
    "print(movies.title.sort_values())\n",
    "print(movies.title.sort_values(ascending=False)) # for descending\n",
    "\n",
    "# Sorting a data frame on the basis of a series (inplace not used)\n",
    "print(movies.sort_values('title')) # we can use ascending=False for reverse\n",
    "print(movies.sort_values(['title','duration'])) # left to right preference on sorting\n",
    "# old ways\n",
    "# .sort('title') , .title.order() for series\n"
   ],
   "metadata": {
    "colab": {
     "base_uri": "https://localhost:8080/"
    },
    "id": "CGI9kNtFqU9N",
    "outputId": "4b0897dc-2d19-4059-bcac-20a4515193d8",
    "ExecuteTime": {
     "end_time": "2024-01-14T06:07:09.465145300Z",
     "start_time": "2024-01-14T06:07:01.745561500Z"
    }
   },
   "execution_count": 8,
   "outputs": [
    {
     "name": "stdout",
     "output_type": "stream",
     "text": [
      "542     (500) Days of Summer\n",
      "5               12 Angry Men\n",
      "201         12 Years a Slave\n",
      "698                127 Hours\n",
      "110    2001: A Space Odyssey\n",
      "               ...          \n",
      "955         Zero Dark Thirty\n",
      "677                   Zodiac\n",
      "615               Zombieland\n",
      "526                     Zulu\n",
      "864                    [Rec]\n",
      "Name: title, Length: 979, dtype: object\n",
      "864                    [Rec]\n",
      "526                     Zulu\n",
      "615               Zombieland\n",
      "677                   Zodiac\n",
      "955         Zero Dark Thirty\n",
      "               ...          \n",
      "110    2001: A Space Odyssey\n",
      "698                127 Hours\n",
      "201         12 Years a Slave\n",
      "5               12 Angry Men\n",
      "542     (500) Days of Summer\n",
      "Name: title, Length: 979, dtype: object\n",
      "     star_rating                  title content_rating      genre  duration  \\\n",
      "542          7.8   (500) Days of Summer          PG-13     Comedy        95   \n",
      "5            8.9           12 Angry Men      NOT RATED      Drama        96   \n",
      "201          8.1       12 Years a Slave              R  Biography       134   \n",
      "698          7.6              127 Hours              R  Adventure        94   \n",
      "110          8.3  2001: A Space Odyssey              G    Mystery       160   \n",
      "..           ...                    ...            ...        ...       ...   \n",
      "955          7.4       Zero Dark Thirty              R      Drama       157   \n",
      "677          7.7                 Zodiac              R      Crime       157   \n",
      "615          7.7             Zombieland              R     Comedy        88   \n",
      "526          7.8                   Zulu        UNRATED      Drama       138   \n",
      "864          7.5                  [Rec]              R     Horror        78   \n",
      "\n",
      "                                           actors_list  \n",
      "542  [u'Zooey Deschanel', u'Joseph Gordon-Levitt', ...  \n",
      "5    [u'Henry Fonda', u'Lee J. Cobb', u'Martin Bals...  \n",
      "201  [u'Chiwetel Ejiofor', u'Michael Kenneth Willia...  \n",
      "698  [u'James Franco', u'Amber Tamblyn', u'Kate Mara']  \n",
      "110  [u'Keir Dullea', u'Gary Lockwood', u'William S...  \n",
      "..                                                 ...  \n",
      "955  [u'Jessica Chastain', u'Joel Edgerton', u'Chri...  \n",
      "677  [u'Jake Gyllenhaal', u'Robert Downey Jr.', u'M...  \n",
      "615  [u'Jesse Eisenberg', u'Emma Stone', u'Woody Ha...  \n",
      "526  [u'Stanley Baker', u'Jack Hawkins', u'Ulla Jac...  \n",
      "864  [u'Manuela Velasco', u'Ferran Terraza', u'Jorg...  \n",
      "\n",
      "[979 rows x 6 columns]\n",
      "     star_rating                  title content_rating      genre  duration  \\\n",
      "542          7.8   (500) Days of Summer          PG-13     Comedy        95   \n",
      "5            8.9           12 Angry Men      NOT RATED      Drama        96   \n",
      "201          8.1       12 Years a Slave              R  Biography       134   \n",
      "698          7.6              127 Hours              R  Adventure        94   \n",
      "110          8.3  2001: A Space Odyssey              G    Mystery       160   \n",
      "..           ...                    ...            ...        ...       ...   \n",
      "955          7.4       Zero Dark Thirty              R      Drama       157   \n",
      "677          7.7                 Zodiac              R      Crime       157   \n",
      "615          7.7             Zombieland              R     Comedy        88   \n",
      "526          7.8                   Zulu        UNRATED      Drama       138   \n",
      "864          7.5                  [Rec]              R     Horror        78   \n",
      "\n",
      "                                           actors_list  \n",
      "542  [u'Zooey Deschanel', u'Joseph Gordon-Levitt', ...  \n",
      "5    [u'Henry Fonda', u'Lee J. Cobb', u'Martin Bals...  \n",
      "201  [u'Chiwetel Ejiofor', u'Michael Kenneth Willia...  \n",
      "698  [u'James Franco', u'Amber Tamblyn', u'Kate Mara']  \n",
      "110  [u'Keir Dullea', u'Gary Lockwood', u'William S...  \n",
      "..                                                 ...  \n",
      "955  [u'Jessica Chastain', u'Joel Edgerton', u'Chri...  \n",
      "677  [u'Jake Gyllenhaal', u'Robert Downey Jr.', u'M...  \n",
      "615  [u'Jesse Eisenberg', u'Emma Stone', u'Woody Ha...  \n",
      "526  [u'Stanley Baker', u'Jack Hawkins', u'Ulla Jac...  \n",
      "864  [u'Manuela Velasco', u'Ferran Terraza', u'Jorg...  \n",
      "\n",
      "[979 rows x 6 columns]\n"
     ]
    }
   ]
  },
  {
   "cell_type": "code",
   "source": [
    "# How do we filter rows of a pandas data frame by column value\n",
    "movies=pd.read_csv('http://bit.ly/imdbratings')\n",
    "\n",
    "# say all movies with duration >= 200\n",
    "# M-1\n",
    "booleans=[]\n",
    "for l in movies.duration:\n",
    "  if l >=200:\n",
    "    booleans.append(True)\n",
    "  else:\n",
    "    booleans.append(False)\n",
    "\n",
    "booleans=pd.Series(booleans) # a pd series consisting of whether or not to take the row\n",
    "print(movies[booleans]) # when such a bool series is passed through the data frame it accordingly removes the false rows\n",
    "\n",
    "# M-2\n",
    "booleans=movies.duration >= 200\n",
    "print(movies[booleans])\n",
    "\n",
    "#M-3\n",
    "print(movies[movies.duration >= 200])\n",
    "\n",
    "# If we want only genre from above\n",
    "\n",
    "print(movies[movies.duration >= 200].genre)\n",
    "# But above method may cause problem\n",
    "# we use loc i.e. movies.loc[row needed,col needed]\n",
    "print(movies.loc[movies.duration >= 200,'genre'])"
   ],
   "metadata": {
    "colab": {
     "base_uri": "https://localhost:8080/"
    },
    "id": "t1YczY7D0aoK",
    "outputId": "df6f613f-17e1-4c8b-d203-ed8dea305b1d",
    "ExecuteTime": {
     "end_time": "2024-01-14T06:07:10.939398900Z",
     "start_time": "2024-01-14T06:07:09.467144100Z"
    }
   },
   "execution_count": 9,
   "outputs": [
    {
     "name": "stdout",
     "output_type": "stream",
     "text": [
      "     star_rating                                          title  \\\n",
      "2            9.1                         The Godfather: Part II   \n",
      "7            8.9  The Lord of the Rings: The Return of the King   \n",
      "17           8.7                                  Seven Samurai   \n",
      "78           8.4                    Once Upon a Time in America   \n",
      "85           8.4                             Lawrence of Arabia   \n",
      "142          8.3              Lagaan: Once Upon a Time in India   \n",
      "157          8.2                             Gone with the Wind   \n",
      "204          8.1                                        Ben-Hur   \n",
      "445          7.9                           The Ten Commandments   \n",
      "476          7.8                                         Hamlet   \n",
      "630          7.7                                      Malcolm X   \n",
      "767          7.6                It's a Mad, Mad, Mad, Mad World   \n",
      "\n",
      "    content_rating      genre  duration  \\\n",
      "2                R      Crime       200   \n",
      "7            PG-13  Adventure       201   \n",
      "17         UNRATED      Drama       207   \n",
      "78               R      Crime       229   \n",
      "85              PG  Adventure       216   \n",
      "142             PG  Adventure       224   \n",
      "157              G      Drama       238   \n",
      "204              G  Adventure       212   \n",
      "445       APPROVED  Adventure       220   \n",
      "476          PG-13      Drama       242   \n",
      "630          PG-13  Biography       202   \n",
      "767       APPROVED     Action       205   \n",
      "\n",
      "                                           actors_list  \n",
      "2    [u'Al Pacino', u'Robert De Niro', u'Robert Duv...  \n",
      "7    [u'Elijah Wood', u'Viggo Mortensen', u'Ian McK...  \n",
      "17   [u'Toshir\\xf4 Mifune', u'Takashi Shimura', u'K...  \n",
      "78   [u'Robert De Niro', u'James Woods', u'Elizabet...  \n",
      "85   [u\"Peter O'Toole\", u'Alec Guinness', u'Anthony...  \n",
      "142  [u'Aamir Khan', u'Gracy Singh', u'Rachel Shell...  \n",
      "157  [u'Clark Gable', u'Vivien Leigh', u'Thomas Mit...  \n",
      "204  [u'Charlton Heston', u'Jack Hawkins', u'Stephe...  \n",
      "445  [u'Charlton Heston', u'Yul Brynner', u'Anne Ba...  \n",
      "476  [u'Kenneth Branagh', u'Julie Christie', u'Dere...  \n",
      "630  [u'Denzel Washington', u'Angela Bassett', u'De...  \n",
      "767  [u'Spencer Tracy', u'Milton Berle', u'Ethel Me...  \n",
      "     star_rating                                          title  \\\n",
      "2            9.1                         The Godfather: Part II   \n",
      "7            8.9  The Lord of the Rings: The Return of the King   \n",
      "17           8.7                                  Seven Samurai   \n",
      "78           8.4                    Once Upon a Time in America   \n",
      "85           8.4                             Lawrence of Arabia   \n",
      "142          8.3              Lagaan: Once Upon a Time in India   \n",
      "157          8.2                             Gone with the Wind   \n",
      "204          8.1                                        Ben-Hur   \n",
      "445          7.9                           The Ten Commandments   \n",
      "476          7.8                                         Hamlet   \n",
      "630          7.7                                      Malcolm X   \n",
      "767          7.6                It's a Mad, Mad, Mad, Mad World   \n",
      "\n",
      "    content_rating      genre  duration  \\\n",
      "2                R      Crime       200   \n",
      "7            PG-13  Adventure       201   \n",
      "17         UNRATED      Drama       207   \n",
      "78               R      Crime       229   \n",
      "85              PG  Adventure       216   \n",
      "142             PG  Adventure       224   \n",
      "157              G      Drama       238   \n",
      "204              G  Adventure       212   \n",
      "445       APPROVED  Adventure       220   \n",
      "476          PG-13      Drama       242   \n",
      "630          PG-13  Biography       202   \n",
      "767       APPROVED     Action       205   \n",
      "\n",
      "                                           actors_list  \n",
      "2    [u'Al Pacino', u'Robert De Niro', u'Robert Duv...  \n",
      "7    [u'Elijah Wood', u'Viggo Mortensen', u'Ian McK...  \n",
      "17   [u'Toshir\\xf4 Mifune', u'Takashi Shimura', u'K...  \n",
      "78   [u'Robert De Niro', u'James Woods', u'Elizabet...  \n",
      "85   [u\"Peter O'Toole\", u'Alec Guinness', u'Anthony...  \n",
      "142  [u'Aamir Khan', u'Gracy Singh', u'Rachel Shell...  \n",
      "157  [u'Clark Gable', u'Vivien Leigh', u'Thomas Mit...  \n",
      "204  [u'Charlton Heston', u'Jack Hawkins', u'Stephe...  \n",
      "445  [u'Charlton Heston', u'Yul Brynner', u'Anne Ba...  \n",
      "476  [u'Kenneth Branagh', u'Julie Christie', u'Dere...  \n",
      "630  [u'Denzel Washington', u'Angela Bassett', u'De...  \n",
      "767  [u'Spencer Tracy', u'Milton Berle', u'Ethel Me...  \n",
      "     star_rating                                          title  \\\n",
      "2            9.1                         The Godfather: Part II   \n",
      "7            8.9  The Lord of the Rings: The Return of the King   \n",
      "17           8.7                                  Seven Samurai   \n",
      "78           8.4                    Once Upon a Time in America   \n",
      "85           8.4                             Lawrence of Arabia   \n",
      "142          8.3              Lagaan: Once Upon a Time in India   \n",
      "157          8.2                             Gone with the Wind   \n",
      "204          8.1                                        Ben-Hur   \n",
      "445          7.9                           The Ten Commandments   \n",
      "476          7.8                                         Hamlet   \n",
      "630          7.7                                      Malcolm X   \n",
      "767          7.6                It's a Mad, Mad, Mad, Mad World   \n",
      "\n",
      "    content_rating      genre  duration  \\\n",
      "2                R      Crime       200   \n",
      "7            PG-13  Adventure       201   \n",
      "17         UNRATED      Drama       207   \n",
      "78               R      Crime       229   \n",
      "85              PG  Adventure       216   \n",
      "142             PG  Adventure       224   \n",
      "157              G      Drama       238   \n",
      "204              G  Adventure       212   \n",
      "445       APPROVED  Adventure       220   \n",
      "476          PG-13      Drama       242   \n",
      "630          PG-13  Biography       202   \n",
      "767       APPROVED     Action       205   \n",
      "\n",
      "                                           actors_list  \n",
      "2    [u'Al Pacino', u'Robert De Niro', u'Robert Duv...  \n",
      "7    [u'Elijah Wood', u'Viggo Mortensen', u'Ian McK...  \n",
      "17   [u'Toshir\\xf4 Mifune', u'Takashi Shimura', u'K...  \n",
      "78   [u'Robert De Niro', u'James Woods', u'Elizabet...  \n",
      "85   [u\"Peter O'Toole\", u'Alec Guinness', u'Anthony...  \n",
      "142  [u'Aamir Khan', u'Gracy Singh', u'Rachel Shell...  \n",
      "157  [u'Clark Gable', u'Vivien Leigh', u'Thomas Mit...  \n",
      "204  [u'Charlton Heston', u'Jack Hawkins', u'Stephe...  \n",
      "445  [u'Charlton Heston', u'Yul Brynner', u'Anne Ba...  \n",
      "476  [u'Kenneth Branagh', u'Julie Christie', u'Dere...  \n",
      "630  [u'Denzel Washington', u'Angela Bassett', u'De...  \n",
      "767  [u'Spencer Tracy', u'Milton Berle', u'Ethel Me...  \n",
      "2          Crime\n",
      "7      Adventure\n",
      "17         Drama\n",
      "78         Crime\n",
      "85     Adventure\n",
      "142    Adventure\n",
      "157        Drama\n",
      "204    Adventure\n",
      "445    Adventure\n",
      "476        Drama\n",
      "630    Biography\n",
      "767       Action\n",
      "Name: genre, dtype: object\n",
      "2          Crime\n",
      "7      Adventure\n",
      "17         Drama\n",
      "78         Crime\n",
      "85     Adventure\n",
      "142    Adventure\n",
      "157        Drama\n",
      "204    Adventure\n",
      "445    Adventure\n",
      "476        Drama\n",
      "630    Biography\n",
      "767       Action\n",
      "Name: genre, dtype: object\n"
     ]
    }
   ]
  },
  {
   "cell_type": "code",
   "source": [
    "# Applying multiple criteria\n",
    "movies=pd.read_csv('http://bit.ly/imdbratings')\n",
    "\n",
    "# duration >= 200 and genre = 'Drama\n",
    "print(movies[(movies.duration >= 200) & (movies.genre == 'Drama')])\n",
    "\n",
    "# if multiple genre there or not then as the below method is much safer\n",
    "print(movies[movies.genre.isin(['Crime','Drama','Action'])])"
   ],
   "metadata": {
    "colab": {
     "base_uri": "https://localhost:8080/"
    },
    "id": "6dnpl9wu_nYR",
    "outputId": "f3920f33-1d29-4301-def1-379ed2794ccf",
    "ExecuteTime": {
     "end_time": "2024-01-14T06:07:12.898316200Z",
     "start_time": "2024-01-14T06:07:10.753447300Z"
    }
   },
   "execution_count": 10,
   "outputs": [
    {
     "name": "stdout",
     "output_type": "stream",
     "text": [
      "     star_rating               title content_rating  genre  duration  \\\n",
      "17           8.7       Seven Samurai        UNRATED  Drama       207   \n",
      "157          8.2  Gone with the Wind              G  Drama       238   \n",
      "476          7.8              Hamlet          PG-13  Drama       242   \n",
      "\n",
      "                                           actors_list  \n",
      "17   [u'Toshir\\xf4 Mifune', u'Takashi Shimura', u'K...  \n",
      "157  [u'Clark Gable', u'Vivien Leigh', u'Thomas Mit...  \n",
      "476  [u'Kenneth Branagh', u'Julie Christie', u'Dere...  \n",
      "     star_rating                                            title  \\\n",
      "0            9.3                         The Shawshank Redemption   \n",
      "1            9.2                                    The Godfather   \n",
      "2            9.1                           The Godfather: Part II   \n",
      "3            9.0                                  The Dark Knight   \n",
      "4            8.9                                     Pulp Fiction   \n",
      "..           ...                                              ...   \n",
      "970          7.4                                      Wonder Boys   \n",
      "972          7.4                                   Blue Valentine   \n",
      "973          7.4                            The Cider House Rules   \n",
      "976          7.4  Master and Commander: The Far Side of the World   \n",
      "978          7.4                                      Wall Street   \n",
      "\n",
      "    content_rating   genre  duration  \\\n",
      "0                R   Crime       142   \n",
      "1                R   Crime       175   \n",
      "2                R   Crime       200   \n",
      "3            PG-13  Action       152   \n",
      "4                R   Crime       154   \n",
      "..             ...     ...       ...   \n",
      "970              R   Drama       107   \n",
      "972          NC-17   Drama       112   \n",
      "973          PG-13   Drama       126   \n",
      "976          PG-13  Action       138   \n",
      "978              R   Crime       126   \n",
      "\n",
      "                                           actors_list  \n",
      "0    [u'Tim Robbins', u'Morgan Freeman', u'Bob Gunt...  \n",
      "1      [u'Marlon Brando', u'Al Pacino', u'James Caan']  \n",
      "2    [u'Al Pacino', u'Robert De Niro', u'Robert Duv...  \n",
      "3    [u'Christian Bale', u'Heath Ledger', u'Aaron E...  \n",
      "4    [u'John Travolta', u'Uma Thurman', u'Samuel L....  \n",
      "..                                                 ...  \n",
      "970  [u'Michael Douglas', u'Tobey Maguire', u'Franc...  \n",
      "972  [u'Ryan Gosling', u'Michelle Williams', u'John...  \n",
      "973  [u'Tobey Maguire', u'Charlize Theron', u'Micha...  \n",
      "976  [u'Russell Crowe', u'Paul Bettany', u'Billy Bo...  \n",
      "978  [u'Charlie Sheen', u'Michael Douglas', u'Tamar...  \n",
      "\n",
      "[538 rows x 6 columns]\n"
     ]
    }
   ]
  },
  {
   "cell_type": "code",
   "source": [
    "# How do we use axis parameters\n",
    "drinks = pd.read_csv(\"http://bit.ly/drinksbycountry\")\n",
    "\n",
    "# axis=0 or 'index' --> row and axis=1 or 'columns' --> column\n",
    "print(drinks.mean(axis=0))  # Now here axis = 0 means for each column go in row direction for calculating mean\n",
    "print(drinks.mean(axis=1)) # Here axis=1 means in each row go in column wise direction for calculating mean of numerical values\n",
    "\n"
   ],
   "metadata": {
    "id": "RSVu3bc2EaBQ",
    "colab": {
     "base_uri": "https://localhost:8080/"
    },
    "outputId": "ce294912-4a4c-44e2-9e87-95fe9d665e9a",
    "ExecuteTime": {
     "end_time": "2024-01-14T06:07:23.307777100Z",
     "start_time": "2024-01-14T06:07:12.899317500Z"
    }
   },
   "execution_count": 11,
   "outputs": [
    {
     "ename": "TypeError",
     "evalue": "Could not convert [\"AfghanistanAlbaniaAlgeriaAndorraAngolaAntigua & BarbudaArgentinaArmeniaAustraliaAustriaAzerbaijanBahamasBahrainBangladeshBarbadosBelarusBelgiumBelizeBeninBhutanBoliviaBosnia-HerzegovinaBotswanaBrazilBruneiBulgariaBurkina FasoBurundiCote d'IvoireCabo VerdeCambodiaCameroonCanadaCentral African RepublicChadChileChinaColombiaComorosCongoCook IslandsCosta RicaCroatiaCubaCyprusCzech RepublicNorth KoreaDR CongoDenmarkDjiboutiDominicaDominican RepublicEcuadorEgyptEl SalvadorEquatorial GuineaEritreaEstoniaEthiopiaFijiFinlandFranceGabonGambiaGeorgiaGermanyGhanaGreeceGrenadaGuatemalaGuineaGuinea-BissauGuyanaHaitiHondurasHungaryIcelandIndiaIndonesiaIranIraqIrelandIsraelItalyJamaicaJapanJordanKazakhstanKenyaKiribatiKuwaitKyrgyzstanLaosLatviaLebanonLesothoLiberiaLibyaLithuaniaLuxembourgMadagascarMalawiMalaysiaMaldivesMaliMaltaMarshall IslandsMauritaniaMauritiusMexicoMicronesiaMonacoMongoliaMontenegroMoroccoMozambiqueMyanmarNamibiaNauruNepalNetherlandsNew ZealandNicaraguaNigerNigeriaNiueNorwayOmanPakistanPalauPanamaPapua New GuineaParaguayPeruPhilippinesPolandPortugalQatarSouth KoreaMoldovaRomaniaRussian FederationRwandaSt. Kitts & NevisSt. LuciaSt. Vincent & the GrenadinesSamoaSan MarinoSao Tome & PrincipeSaudi ArabiaSenegalSerbiaSeychellesSierra LeoneSingaporeSlovakiaSloveniaSolomon IslandsSomaliaSouth AfricaSpainSri LankaSudanSurinameSwazilandSwedenSwitzerlandSyriaTajikistanThailandMacedoniaTimor-LesteTogoTongaTrinidad & TobagoTunisiaTurkeyTurkmenistanTuvaluUgandaUkraineUnited Arab EmiratesUnited KingdomTanzaniaUSAUruguayUzbekistanVanuatuVenezuelaVietnamYemenZambiaZimbabwe\"\n 'AsiaEuropeAfricaEuropeAfricaNorth AmericaSouth AmericaEuropeOceaniaEuropeEuropeNorth AmericaAsiaAsiaNorth AmericaEuropeEuropeNorth AmericaAfricaAsiaSouth AmericaEuropeAfricaSouth AmericaAsiaEuropeAfricaAfricaAfricaAfricaAsiaAfricaNorth AmericaAfricaAfricaSouth AmericaAsiaSouth AmericaAfricaAfricaOceaniaNorth AmericaEuropeNorth AmericaEuropeEuropeAsiaAfricaEuropeAfricaNorth AmericaNorth AmericaSouth AmericaAfricaNorth AmericaAfricaAfricaEuropeAfricaOceaniaEuropeEuropeAfricaAfricaEuropeEuropeAfricaEuropeNorth AmericaNorth AmericaAfricaAfricaSouth AmericaNorth AmericaNorth AmericaEuropeEuropeAsiaAsiaAsiaAsiaEuropeAsiaEuropeNorth AmericaAsiaAsiaAsiaAfricaOceaniaAsiaAsiaAsiaEuropeAsiaAfricaAfricaAfricaEuropeEuropeAfricaAfricaAsiaAsiaAfricaEuropeOceaniaAfricaAfricaNorth AmericaOceaniaEuropeAsiaEuropeAfricaAfricaAsiaAfricaOceaniaAsiaEuropeOceaniaNorth AmericaAfricaAfricaOceaniaEuropeAsiaAsiaOceaniaNorth AmericaOceaniaSouth AmericaSouth AmericaAsiaEuropeEuropeAsiaAsiaEuropeEuropeAsiaAfricaNorth AmericaNorth AmericaNorth AmericaOceaniaEuropeAfricaAsiaAfricaEuropeAfricaAfricaAsiaEuropeEuropeOceaniaAfricaAfricaEuropeAsiaAfricaSouth AmericaAfricaEuropeEuropeAsiaAsiaAsiaEuropeAsiaAfricaOceaniaNorth AmericaAfricaAsiaAsiaOceaniaAfricaEuropeAsiaEuropeAfricaNorth AmericaSouth AmericaAsiaOceaniaSouth AmericaAsiaAsiaAfricaAfrica'] to numeric",
     "output_type": "error",
     "traceback": [
      "\u001B[1;31m---------------------------------------------------------------------------\u001B[0m",
      "\u001B[1;31mValueError\u001B[0m                                Traceback (most recent call last)",
      "File \u001B[1;32m~\\anaconda3\\Lib\\site-packages\\pandas\\core\\nanops.py:1680\u001B[0m, in \u001B[0;36m_ensure_numeric\u001B[1;34m(x)\u001B[0m\n\u001B[0;32m   1679\u001B[0m \u001B[38;5;28;01mtry\u001B[39;00m:\n\u001B[1;32m-> 1680\u001B[0m     x \u001B[38;5;241m=\u001B[39m x\u001B[38;5;241m.\u001B[39mastype(np\u001B[38;5;241m.\u001B[39mcomplex128)\n\u001B[0;32m   1681\u001B[0m \u001B[38;5;28;01mexcept\u001B[39;00m (\u001B[38;5;167;01mTypeError\u001B[39;00m, \u001B[38;5;167;01mValueError\u001B[39;00m):\n",
      "\u001B[1;31mValueError\u001B[0m: complex() arg is a malformed string",
      "\nDuring handling of the above exception, another exception occurred:\n",
      "\u001B[1;31mValueError\u001B[0m                                Traceback (most recent call last)",
      "File \u001B[1;32m~\\anaconda3\\Lib\\site-packages\\pandas\\core\\nanops.py:1683\u001B[0m, in \u001B[0;36m_ensure_numeric\u001B[1;34m(x)\u001B[0m\n\u001B[0;32m   1682\u001B[0m \u001B[38;5;28;01mtry\u001B[39;00m:\n\u001B[1;32m-> 1683\u001B[0m     x \u001B[38;5;241m=\u001B[39m x\u001B[38;5;241m.\u001B[39mastype(np\u001B[38;5;241m.\u001B[39mfloat64)\n\u001B[0;32m   1684\u001B[0m \u001B[38;5;28;01mexcept\u001B[39;00m \u001B[38;5;167;01mValueError\u001B[39;00m \u001B[38;5;28;01mas\u001B[39;00m err:\n\u001B[0;32m   1685\u001B[0m     \u001B[38;5;66;03m# GH#29941 we get here with object arrays containing strs\u001B[39;00m\n",
      "\u001B[1;31mValueError\u001B[0m: could not convert string to float: \"AfghanistanAlbaniaAlgeriaAndorraAngolaAntigua & BarbudaArgentinaArmeniaAustraliaAustriaAzerbaijanBahamasBahrainBangladeshBarbadosBelarusBelgiumBelizeBeninBhutanBoliviaBosnia-HerzegovinaBotswanaBrazilBruneiBulgariaBurkina FasoBurundiCote d'IvoireCabo VerdeCambodiaCameroonCanadaCentral African RepublicChadChileChinaColombiaComorosCongoCook IslandsCosta RicaCroatiaCubaCyprusCzech RepublicNorth KoreaDR CongoDenmarkDjiboutiDominicaDominican RepublicEcuadorEgyptEl SalvadorEquatorial GuineaEritreaEstoniaEthiopiaFijiFinlandFranceGabonGambiaGeorgiaGermanyGhanaGreeceGrenadaGuatemalaGuineaGuinea-BissauGuyanaHaitiHondurasHungaryIcelandIndiaIndonesiaIranIraqIrelandIsraelItalyJamaicaJapanJordanKazakhstanKenyaKiribatiKuwaitKyrgyzstanLaosLatviaLebanonLesothoLiberiaLibyaLithuaniaLuxembourgMadagascarMalawiMalaysiaMaldivesMaliMaltaMarshall IslandsMauritaniaMauritiusMexicoMicronesiaMonacoMongoliaMontenegroMoroccoMozambiqueMyanmarNamibiaNauruNepalNetherlandsNew ZealandNicaraguaNigerNigeriaNiueNorwayOmanPakistanPalauPanamaPapua New GuineaParaguayPeruPhilippinesPolandPortugalQatarSouth KoreaMoldovaRomaniaRussian FederationRwandaSt. Kitts & NevisSt. LuciaSt. Vincent & the GrenadinesSamoaSan MarinoSao Tome & PrincipeSaudi ArabiaSenegalSerbiaSeychellesSierra LeoneSingaporeSlovakiaSloveniaSolomon IslandsSomaliaSouth AfricaSpainSri LankaSudanSurinameSwazilandSwedenSwitzerlandSyriaTajikistanThailandMacedoniaTimor-LesteTogoTongaTrinidad & TobagoTunisiaTurkeyTurkmenistanTuvaluUgandaUkraineUnited Arab EmiratesUnited KingdomTanzaniaUSAUruguayUzbekistanVanuatuVenezuelaVietnamYemenZambiaZimbabwe\"",
      "\nThe above exception was the direct cause of the following exception:\n",
      "\u001B[1;31mTypeError\u001B[0m                                 Traceback (most recent call last)",
      "Cell \u001B[1;32mIn[11], line 5\u001B[0m\n\u001B[0;32m      2\u001B[0m drinks \u001B[38;5;241m=\u001B[39m pd\u001B[38;5;241m.\u001B[39mread_csv(\u001B[38;5;124m\"\u001B[39m\u001B[38;5;124mhttp://bit.ly/drinksbycountry\u001B[39m\u001B[38;5;124m\"\u001B[39m)\n\u001B[0;32m      4\u001B[0m \u001B[38;5;66;03m# axis=0 or 'index' --> row and axis=1 or 'columns' --> column\u001B[39;00m\n\u001B[1;32m----> 5\u001B[0m \u001B[38;5;28mprint\u001B[39m(drinks\u001B[38;5;241m.\u001B[39mmean(axis\u001B[38;5;241m=\u001B[39m\u001B[38;5;241m0\u001B[39m))  \u001B[38;5;66;03m# Now here axis = 0 means for each column go in row direction for calculating mean\u001B[39;00m\n\u001B[0;32m      6\u001B[0m \u001B[38;5;28mprint\u001B[39m(drinks\u001B[38;5;241m.\u001B[39mmean(axis\u001B[38;5;241m=\u001B[39m\u001B[38;5;241m1\u001B[39m))\n",
      "File \u001B[1;32m~\\anaconda3\\Lib\\site-packages\\pandas\\core\\generic.py:11556\u001B[0m, in \u001B[0;36mNDFrame._add_numeric_operations.<locals>.mean\u001B[1;34m(self, axis, skipna, numeric_only, **kwargs)\u001B[0m\n\u001B[0;32m  11539\u001B[0m \u001B[38;5;129m@doc\u001B[39m(\n\u001B[0;32m  11540\u001B[0m     _num_doc,\n\u001B[0;32m  11541\u001B[0m     desc\u001B[38;5;241m=\u001B[39m\u001B[38;5;124m\"\u001B[39m\u001B[38;5;124mReturn the mean of the values over the requested axis.\u001B[39m\u001B[38;5;124m\"\u001B[39m,\n\u001B[1;32m   (...)\u001B[0m\n\u001B[0;32m  11554\u001B[0m     \u001B[38;5;241m*\u001B[39m\u001B[38;5;241m*\u001B[39mkwargs,\n\u001B[0;32m  11555\u001B[0m ):\n\u001B[1;32m> 11556\u001B[0m     \u001B[38;5;28;01mreturn\u001B[39;00m NDFrame\u001B[38;5;241m.\u001B[39mmean(\u001B[38;5;28mself\u001B[39m, axis, skipna, numeric_only, \u001B[38;5;241m*\u001B[39m\u001B[38;5;241m*\u001B[39mkwargs)\n",
      "File \u001B[1;32m~\\anaconda3\\Lib\\site-packages\\pandas\\core\\generic.py:11201\u001B[0m, in \u001B[0;36mNDFrame.mean\u001B[1;34m(self, axis, skipna, numeric_only, **kwargs)\u001B[0m\n\u001B[0;32m  11194\u001B[0m \u001B[38;5;28;01mdef\u001B[39;00m \u001B[38;5;21mmean\u001B[39m(\n\u001B[0;32m  11195\u001B[0m     \u001B[38;5;28mself\u001B[39m,\n\u001B[0;32m  11196\u001B[0m     axis: Axis \u001B[38;5;241m|\u001B[39m \u001B[38;5;28;01mNone\u001B[39;00m \u001B[38;5;241m=\u001B[39m \u001B[38;5;241m0\u001B[39m,\n\u001B[1;32m   (...)\u001B[0m\n\u001B[0;32m  11199\u001B[0m     \u001B[38;5;241m*\u001B[39m\u001B[38;5;241m*\u001B[39mkwargs,\n\u001B[0;32m  11200\u001B[0m ) \u001B[38;5;241m-\u001B[39m\u001B[38;5;241m>\u001B[39m Series \u001B[38;5;241m|\u001B[39m \u001B[38;5;28mfloat\u001B[39m:\n\u001B[1;32m> 11201\u001B[0m     \u001B[38;5;28;01mreturn\u001B[39;00m \u001B[38;5;28mself\u001B[39m\u001B[38;5;241m.\u001B[39m_stat_function(\n\u001B[0;32m  11202\u001B[0m         \u001B[38;5;124m\"\u001B[39m\u001B[38;5;124mmean\u001B[39m\u001B[38;5;124m\"\u001B[39m, nanops\u001B[38;5;241m.\u001B[39mnanmean, axis, skipna, numeric_only, \u001B[38;5;241m*\u001B[39m\u001B[38;5;241m*\u001B[39mkwargs\n\u001B[0;32m  11203\u001B[0m     )\n",
      "File \u001B[1;32m~\\anaconda3\\Lib\\site-packages\\pandas\\core\\generic.py:11158\u001B[0m, in \u001B[0;36mNDFrame._stat_function\u001B[1;34m(self, name, func, axis, skipna, numeric_only, **kwargs)\u001B[0m\n\u001B[0;32m  11154\u001B[0m     nv\u001B[38;5;241m.\u001B[39mvalidate_stat_func((), kwargs, fname\u001B[38;5;241m=\u001B[39mname)\n\u001B[0;32m  11156\u001B[0m validate_bool_kwarg(skipna, \u001B[38;5;124m\"\u001B[39m\u001B[38;5;124mskipna\u001B[39m\u001B[38;5;124m\"\u001B[39m, none_allowed\u001B[38;5;241m=\u001B[39m\u001B[38;5;28;01mFalse\u001B[39;00m)\n\u001B[1;32m> 11158\u001B[0m \u001B[38;5;28;01mreturn\u001B[39;00m \u001B[38;5;28mself\u001B[39m\u001B[38;5;241m.\u001B[39m_reduce(\n\u001B[0;32m  11159\u001B[0m     func, name\u001B[38;5;241m=\u001B[39mname, axis\u001B[38;5;241m=\u001B[39maxis, skipna\u001B[38;5;241m=\u001B[39mskipna, numeric_only\u001B[38;5;241m=\u001B[39mnumeric_only\n\u001B[0;32m  11160\u001B[0m )\n",
      "File \u001B[1;32m~\\anaconda3\\Lib\\site-packages\\pandas\\core\\frame.py:10519\u001B[0m, in \u001B[0;36mDataFrame._reduce\u001B[1;34m(self, op, name, axis, skipna, numeric_only, filter_type, **kwds)\u001B[0m\n\u001B[0;32m  10515\u001B[0m     df \u001B[38;5;241m=\u001B[39m df\u001B[38;5;241m.\u001B[39mT\n\u001B[0;32m  10517\u001B[0m \u001B[38;5;66;03m# After possibly _get_data and transposing, we are now in the\u001B[39;00m\n\u001B[0;32m  10518\u001B[0m \u001B[38;5;66;03m#  simple case where we can use BlockManager.reduce\u001B[39;00m\n\u001B[1;32m> 10519\u001B[0m res \u001B[38;5;241m=\u001B[39m df\u001B[38;5;241m.\u001B[39m_mgr\u001B[38;5;241m.\u001B[39mreduce(blk_func)\n\u001B[0;32m  10520\u001B[0m out \u001B[38;5;241m=\u001B[39m df\u001B[38;5;241m.\u001B[39m_constructor(res)\u001B[38;5;241m.\u001B[39miloc[\u001B[38;5;241m0\u001B[39m]\n\u001B[0;32m  10521\u001B[0m \u001B[38;5;28;01mif\u001B[39;00m out_dtype \u001B[38;5;129;01mis\u001B[39;00m \u001B[38;5;129;01mnot\u001B[39;00m \u001B[38;5;28;01mNone\u001B[39;00m:\n",
      "File \u001B[1;32m~\\anaconda3\\Lib\\site-packages\\pandas\\core\\internals\\managers.py:1534\u001B[0m, in \u001B[0;36mBlockManager.reduce\u001B[1;34m(self, func)\u001B[0m\n\u001B[0;32m   1532\u001B[0m res_blocks: \u001B[38;5;28mlist\u001B[39m[Block] \u001B[38;5;241m=\u001B[39m []\n\u001B[0;32m   1533\u001B[0m \u001B[38;5;28;01mfor\u001B[39;00m blk \u001B[38;5;129;01min\u001B[39;00m \u001B[38;5;28mself\u001B[39m\u001B[38;5;241m.\u001B[39mblocks:\n\u001B[1;32m-> 1534\u001B[0m     nbs \u001B[38;5;241m=\u001B[39m blk\u001B[38;5;241m.\u001B[39mreduce(func)\n\u001B[0;32m   1535\u001B[0m     res_blocks\u001B[38;5;241m.\u001B[39mextend(nbs)\n\u001B[0;32m   1537\u001B[0m index \u001B[38;5;241m=\u001B[39m Index([\u001B[38;5;28;01mNone\u001B[39;00m])  \u001B[38;5;66;03m# placeholder\u001B[39;00m\n",
      "File \u001B[1;32m~\\anaconda3\\Lib\\site-packages\\pandas\\core\\internals\\blocks.py:339\u001B[0m, in \u001B[0;36mBlock.reduce\u001B[1;34m(self, func)\u001B[0m\n\u001B[0;32m    333\u001B[0m \u001B[38;5;129m@final\u001B[39m\n\u001B[0;32m    334\u001B[0m \u001B[38;5;28;01mdef\u001B[39;00m \u001B[38;5;21mreduce\u001B[39m(\u001B[38;5;28mself\u001B[39m, func) \u001B[38;5;241m-\u001B[39m\u001B[38;5;241m>\u001B[39m \u001B[38;5;28mlist\u001B[39m[Block]:\n\u001B[0;32m    335\u001B[0m     \u001B[38;5;66;03m# We will apply the function and reshape the result into a single-row\u001B[39;00m\n\u001B[0;32m    336\u001B[0m     \u001B[38;5;66;03m#  Block with the same mgr_locs; squeezing will be done at a higher level\u001B[39;00m\n\u001B[0;32m    337\u001B[0m     \u001B[38;5;28;01massert\u001B[39;00m \u001B[38;5;28mself\u001B[39m\u001B[38;5;241m.\u001B[39mndim \u001B[38;5;241m==\u001B[39m \u001B[38;5;241m2\u001B[39m\n\u001B[1;32m--> 339\u001B[0m     result \u001B[38;5;241m=\u001B[39m func(\u001B[38;5;28mself\u001B[39m\u001B[38;5;241m.\u001B[39mvalues)\n\u001B[0;32m    341\u001B[0m     \u001B[38;5;28;01mif\u001B[39;00m \u001B[38;5;28mself\u001B[39m\u001B[38;5;241m.\u001B[39mvalues\u001B[38;5;241m.\u001B[39mndim \u001B[38;5;241m==\u001B[39m \u001B[38;5;241m1\u001B[39m:\n\u001B[0;32m    342\u001B[0m         \u001B[38;5;66;03m# TODO(EA2D): special case not needed with 2D EAs\u001B[39;00m\n\u001B[0;32m    343\u001B[0m         res_values \u001B[38;5;241m=\u001B[39m np\u001B[38;5;241m.\u001B[39marray([[result]])\n",
      "File \u001B[1;32m~\\anaconda3\\Lib\\site-packages\\pandas\\core\\frame.py:10482\u001B[0m, in \u001B[0;36mDataFrame._reduce.<locals>.blk_func\u001B[1;34m(values, axis)\u001B[0m\n\u001B[0;32m  10480\u001B[0m     \u001B[38;5;28;01mreturn\u001B[39;00m values\u001B[38;5;241m.\u001B[39m_reduce(name, skipna\u001B[38;5;241m=\u001B[39mskipna, \u001B[38;5;241m*\u001B[39m\u001B[38;5;241m*\u001B[39mkwds)\n\u001B[0;32m  10481\u001B[0m \u001B[38;5;28;01melse\u001B[39;00m:\n\u001B[1;32m> 10482\u001B[0m     \u001B[38;5;28;01mreturn\u001B[39;00m op(values, axis\u001B[38;5;241m=\u001B[39maxis, skipna\u001B[38;5;241m=\u001B[39mskipna, \u001B[38;5;241m*\u001B[39m\u001B[38;5;241m*\u001B[39mkwds)\n",
      "File \u001B[1;32m~\\anaconda3\\Lib\\site-packages\\pandas\\core\\nanops.py:96\u001B[0m, in \u001B[0;36mdisallow.__call__.<locals>._f\u001B[1;34m(*args, **kwargs)\u001B[0m\n\u001B[0;32m     94\u001B[0m \u001B[38;5;28;01mtry\u001B[39;00m:\n\u001B[0;32m     95\u001B[0m     \u001B[38;5;28;01mwith\u001B[39;00m np\u001B[38;5;241m.\u001B[39merrstate(invalid\u001B[38;5;241m=\u001B[39m\u001B[38;5;124m\"\u001B[39m\u001B[38;5;124mignore\u001B[39m\u001B[38;5;124m\"\u001B[39m):\n\u001B[1;32m---> 96\u001B[0m         \u001B[38;5;28;01mreturn\u001B[39;00m f(\u001B[38;5;241m*\u001B[39margs, \u001B[38;5;241m*\u001B[39m\u001B[38;5;241m*\u001B[39mkwargs)\n\u001B[0;32m     97\u001B[0m \u001B[38;5;28;01mexcept\u001B[39;00m \u001B[38;5;167;01mValueError\u001B[39;00m \u001B[38;5;28;01mas\u001B[39;00m e:\n\u001B[0;32m     98\u001B[0m     \u001B[38;5;66;03m# we want to transform an object array\u001B[39;00m\n\u001B[0;32m     99\u001B[0m     \u001B[38;5;66;03m# ValueError message to the more typical TypeError\u001B[39;00m\n\u001B[0;32m    100\u001B[0m     \u001B[38;5;66;03m# e.g. this is normally a disallowed function on\u001B[39;00m\n\u001B[0;32m    101\u001B[0m     \u001B[38;5;66;03m# object arrays that contain strings\u001B[39;00m\n\u001B[0;32m    102\u001B[0m     \u001B[38;5;28;01mif\u001B[39;00m is_object_dtype(args[\u001B[38;5;241m0\u001B[39m]):\n",
      "File \u001B[1;32m~\\anaconda3\\Lib\\site-packages\\pandas\\core\\nanops.py:158\u001B[0m, in \u001B[0;36mbottleneck_switch.__call__.<locals>.f\u001B[1;34m(values, axis, skipna, **kwds)\u001B[0m\n\u001B[0;32m    156\u001B[0m         result \u001B[38;5;241m=\u001B[39m alt(values, axis\u001B[38;5;241m=\u001B[39maxis, skipna\u001B[38;5;241m=\u001B[39mskipna, \u001B[38;5;241m*\u001B[39m\u001B[38;5;241m*\u001B[39mkwds)\n\u001B[0;32m    157\u001B[0m \u001B[38;5;28;01melse\u001B[39;00m:\n\u001B[1;32m--> 158\u001B[0m     result \u001B[38;5;241m=\u001B[39m alt(values, axis\u001B[38;5;241m=\u001B[39maxis, skipna\u001B[38;5;241m=\u001B[39mskipna, \u001B[38;5;241m*\u001B[39m\u001B[38;5;241m*\u001B[39mkwds)\n\u001B[0;32m    160\u001B[0m \u001B[38;5;28;01mreturn\u001B[39;00m result\n",
      "File \u001B[1;32m~\\anaconda3\\Lib\\site-packages\\pandas\\core\\nanops.py:421\u001B[0m, in \u001B[0;36m_datetimelike_compat.<locals>.new_func\u001B[1;34m(values, axis, skipna, mask, **kwargs)\u001B[0m\n\u001B[0;32m    418\u001B[0m \u001B[38;5;28;01mif\u001B[39;00m datetimelike \u001B[38;5;129;01mand\u001B[39;00m mask \u001B[38;5;129;01mis\u001B[39;00m \u001B[38;5;28;01mNone\u001B[39;00m:\n\u001B[0;32m    419\u001B[0m     mask \u001B[38;5;241m=\u001B[39m isna(values)\n\u001B[1;32m--> 421\u001B[0m result \u001B[38;5;241m=\u001B[39m func(values, axis\u001B[38;5;241m=\u001B[39maxis, skipna\u001B[38;5;241m=\u001B[39mskipna, mask\u001B[38;5;241m=\u001B[39mmask, \u001B[38;5;241m*\u001B[39m\u001B[38;5;241m*\u001B[39mkwargs)\n\u001B[0;32m    423\u001B[0m \u001B[38;5;28;01mif\u001B[39;00m datetimelike:\n\u001B[0;32m    424\u001B[0m     result \u001B[38;5;241m=\u001B[39m _wrap_results(result, orig_values\u001B[38;5;241m.\u001B[39mdtype, fill_value\u001B[38;5;241m=\u001B[39miNaT)\n",
      "File \u001B[1;32m~\\anaconda3\\Lib\\site-packages\\pandas\\core\\nanops.py:727\u001B[0m, in \u001B[0;36mnanmean\u001B[1;34m(values, axis, skipna, mask)\u001B[0m\n\u001B[0;32m    724\u001B[0m     dtype_count \u001B[38;5;241m=\u001B[39m dtype\n\u001B[0;32m    726\u001B[0m count \u001B[38;5;241m=\u001B[39m _get_counts(values\u001B[38;5;241m.\u001B[39mshape, mask, axis, dtype\u001B[38;5;241m=\u001B[39mdtype_count)\n\u001B[1;32m--> 727\u001B[0m the_sum \u001B[38;5;241m=\u001B[39m _ensure_numeric(values\u001B[38;5;241m.\u001B[39msum(axis, dtype\u001B[38;5;241m=\u001B[39mdtype_sum))\n\u001B[0;32m    729\u001B[0m \u001B[38;5;28;01mif\u001B[39;00m axis \u001B[38;5;129;01mis\u001B[39;00m \u001B[38;5;129;01mnot\u001B[39;00m \u001B[38;5;28;01mNone\u001B[39;00m \u001B[38;5;129;01mand\u001B[39;00m \u001B[38;5;28mgetattr\u001B[39m(the_sum, \u001B[38;5;124m\"\u001B[39m\u001B[38;5;124mndim\u001B[39m\u001B[38;5;124m\"\u001B[39m, \u001B[38;5;28;01mFalse\u001B[39;00m):\n\u001B[0;32m    730\u001B[0m     count \u001B[38;5;241m=\u001B[39m cast(np\u001B[38;5;241m.\u001B[39mndarray, count)\n",
      "File \u001B[1;32m~\\anaconda3\\Lib\\site-packages\\pandas\\core\\nanops.py:1686\u001B[0m, in \u001B[0;36m_ensure_numeric\u001B[1;34m(x)\u001B[0m\n\u001B[0;32m   1683\u001B[0m         x \u001B[38;5;241m=\u001B[39m x\u001B[38;5;241m.\u001B[39mastype(np\u001B[38;5;241m.\u001B[39mfloat64)\n\u001B[0;32m   1684\u001B[0m     \u001B[38;5;28;01mexcept\u001B[39;00m \u001B[38;5;167;01mValueError\u001B[39;00m \u001B[38;5;28;01mas\u001B[39;00m err:\n\u001B[0;32m   1685\u001B[0m         \u001B[38;5;66;03m# GH#29941 we get here with object arrays containing strs\u001B[39;00m\n\u001B[1;32m-> 1686\u001B[0m         \u001B[38;5;28;01mraise\u001B[39;00m \u001B[38;5;167;01mTypeError\u001B[39;00m(\u001B[38;5;124mf\u001B[39m\u001B[38;5;124m\"\u001B[39m\u001B[38;5;124mCould not convert \u001B[39m\u001B[38;5;132;01m{\u001B[39;00mx\u001B[38;5;132;01m}\u001B[39;00m\u001B[38;5;124m to numeric\u001B[39m\u001B[38;5;124m\"\u001B[39m) \u001B[38;5;28;01mfrom\u001B[39;00m \u001B[38;5;21;01merr\u001B[39;00m\n\u001B[0;32m   1687\u001B[0m \u001B[38;5;28;01melse\u001B[39;00m:\n\u001B[0;32m   1688\u001B[0m     \u001B[38;5;28;01mif\u001B[39;00m \u001B[38;5;129;01mnot\u001B[39;00m np\u001B[38;5;241m.\u001B[39many(np\u001B[38;5;241m.\u001B[39mimag(x)):\n",
      "\u001B[1;31mTypeError\u001B[0m: Could not convert [\"AfghanistanAlbaniaAlgeriaAndorraAngolaAntigua & BarbudaArgentinaArmeniaAustraliaAustriaAzerbaijanBahamasBahrainBangladeshBarbadosBelarusBelgiumBelizeBeninBhutanBoliviaBosnia-HerzegovinaBotswanaBrazilBruneiBulgariaBurkina FasoBurundiCote d'IvoireCabo VerdeCambodiaCameroonCanadaCentral African RepublicChadChileChinaColombiaComorosCongoCook IslandsCosta RicaCroatiaCubaCyprusCzech RepublicNorth KoreaDR CongoDenmarkDjiboutiDominicaDominican RepublicEcuadorEgyptEl SalvadorEquatorial GuineaEritreaEstoniaEthiopiaFijiFinlandFranceGabonGambiaGeorgiaGermanyGhanaGreeceGrenadaGuatemalaGuineaGuinea-BissauGuyanaHaitiHondurasHungaryIcelandIndiaIndonesiaIranIraqIrelandIsraelItalyJamaicaJapanJordanKazakhstanKenyaKiribatiKuwaitKyrgyzstanLaosLatviaLebanonLesothoLiberiaLibyaLithuaniaLuxembourgMadagascarMalawiMalaysiaMaldivesMaliMaltaMarshall IslandsMauritaniaMauritiusMexicoMicronesiaMonacoMongoliaMontenegroMoroccoMozambiqueMyanmarNamibiaNauruNepalNetherlandsNew ZealandNicaraguaNigerNigeriaNiueNorwayOmanPakistanPalauPanamaPapua New GuineaParaguayPeruPhilippinesPolandPortugalQatarSouth KoreaMoldovaRomaniaRussian FederationRwandaSt. Kitts & NevisSt. LuciaSt. Vincent & the GrenadinesSamoaSan MarinoSao Tome & PrincipeSaudi ArabiaSenegalSerbiaSeychellesSierra LeoneSingaporeSlovakiaSloveniaSolomon IslandsSomaliaSouth AfricaSpainSri LankaSudanSurinameSwazilandSwedenSwitzerlandSyriaTajikistanThailandMacedoniaTimor-LesteTogoTongaTrinidad & TobagoTunisiaTurkeyTurkmenistanTuvaluUgandaUkraineUnited Arab EmiratesUnited KingdomTanzaniaUSAUruguayUzbekistanVanuatuVenezuelaVietnamYemenZambiaZimbabwe\"\n 'AsiaEuropeAfricaEuropeAfricaNorth AmericaSouth AmericaEuropeOceaniaEuropeEuropeNorth AmericaAsiaAsiaNorth AmericaEuropeEuropeNorth AmericaAfricaAsiaSouth AmericaEuropeAfricaSouth AmericaAsiaEuropeAfricaAfricaAfricaAfricaAsiaAfricaNorth AmericaAfricaAfricaSouth AmericaAsiaSouth AmericaAfricaAfricaOceaniaNorth AmericaEuropeNorth AmericaEuropeEuropeAsiaAfricaEuropeAfricaNorth AmericaNorth AmericaSouth AmericaAfricaNorth AmericaAfricaAfricaEuropeAfricaOceaniaEuropeEuropeAfricaAfricaEuropeEuropeAfricaEuropeNorth AmericaNorth AmericaAfricaAfricaSouth AmericaNorth AmericaNorth AmericaEuropeEuropeAsiaAsiaAsiaAsiaEuropeAsiaEuropeNorth AmericaAsiaAsiaAsiaAfricaOceaniaAsiaAsiaAsiaEuropeAsiaAfricaAfricaAfricaEuropeEuropeAfricaAfricaAsiaAsiaAfricaEuropeOceaniaAfricaAfricaNorth AmericaOceaniaEuropeAsiaEuropeAfricaAfricaAsiaAfricaOceaniaAsiaEuropeOceaniaNorth AmericaAfricaAfricaOceaniaEuropeAsiaAsiaOceaniaNorth AmericaOceaniaSouth AmericaSouth AmericaAsiaEuropeEuropeAsiaAsiaEuropeEuropeAsiaAfricaNorth AmericaNorth AmericaNorth AmericaOceaniaEuropeAfricaAsiaAfricaEuropeAfricaAfricaAsiaEuropeEuropeOceaniaAfricaAfricaEuropeAsiaAfricaSouth AmericaAfricaEuropeEuropeAsiaAsiaAsiaEuropeAsiaAfricaOceaniaNorth AmericaAfricaAsiaAsiaOceaniaAfricaEuropeAsiaEuropeAfricaNorth AmericaSouth AmericaAsiaOceaniaSouth AmericaAsiaAsiaAfricaAfrica'] to numeric"
     ]
    }
   ]
  },
  {
   "cell_type": "code",
   "source": [
    "# How do I use string methods in pandas\n",
    "orders = pd.read_table('http://bit.ly/chiporders')\n",
    "\n",
    "# to use any string operations in series then that series.str.operation it is important.\n",
    "print(orders.item_name.str.upper())\n",
    "print(orders[orders.item_name.str.contains('Chicken')])\n",
    "\n",
    "# for more methods https://pandas.pydata.org/pandas-docs/stable/reference/index.html\n",
    "\n",
    "# we can put these methods in series\n",
    "print(orders.choice_description.str.replace('[','').str.replace(']',''))\n",
    "\n",
    "# can also be written as follows\n",
    "print(orders.choice_description.str.replace('[\\[\\]]',''))"
   ],
   "metadata": {
    "colab": {
     "base_uri": "https://localhost:8080/"
    },
    "id": "Mr15eIujZMjQ",
    "outputId": "ffcf177e-9892-4160-cb61-a7a4b7e5110c",
    "ExecuteTime": {
     "end_time": "2024-01-14T06:07:23.309895100Z",
     "start_time": "2024-01-14T06:07:23.307843700Z"
    }
   },
   "execution_count": null,
   "outputs": []
  },
  {
   "cell_type": "code",
   "source": [
    "# how do I change the dta type of a panda series\n",
    "drinks=pd.read_csv('http://bit.ly/drinksbycountry')\n",
    "print(drinks.dtypes)\n",
    "# want to convert beer servings column from integer to float\n",
    "drinks['beer_servings']=drinks.beer_servings.astype(float)\n",
    "\n",
    "print(drinks.dtypes)\n",
    "\n",
    "# Can also do it during the reading the process as follows:\n",
    "drinks=pd.read_csv('http://bit.ly/drinksbycountry',dtype={'beer_servings':float})\n",
    "print(drinks.dtypes)\n",
    "\n",
    "\n",
    "# other example\n",
    "orders=pd.read_table(\"http://bit.ly/chiporders\")\n",
    "# item_price here is a string with a dollar sign and the price and we want it to be numbers\n",
    "print(orders.item_price.str.replace('$','').astype(float).mean())\n",
    "\n",
    "# say we only wanted the rows that contained chicken but now the true and false in terms of 0 or 1\n",
    "print(orders.item_name.str.contains('Chicken').astype(int).head())"
   ],
   "metadata": {
    "colab": {
     "base_uri": "https://localhost:8080/"
    },
    "id": "fzHgicYrdExW",
    "outputId": "7b44e859-7183-497f-fb2d-d09beac96dbf",
    "ExecuteTime": {
     "end_time": "2024-01-14T06:07:23.310847200Z",
     "start_time": "2024-01-14T06:07:23.309895100Z"
    }
   },
   "execution_count": null,
   "outputs": []
  },
  {
   "cell_type": "code",
   "source": [
    "# When and how to use groupby\n",
    "\n",
    "drinks=pd.read_csv('http://bit.ly/drinksbycountry')\n",
    "# if we want avg beer servings grouped by continents\n",
    "print(drinks.groupby('continent').beer_servings.agg(['count','min','max','mean']))\n",
    "\n",
    "# if we want just for say asia we can also do\n",
    "print(drinks[drinks.continent == 'Asia'].beer_servings.mean())\n",
    "\n",
    "# Therefore if we can say that the question can be reframed in terms of 'for each' then we can use it\n",
    "# we can directly use mean without column and it just acts like a data frame with continents as its labels\n",
    "print(drinks.groupby('continent').mean())\n",
    "\n",
    "# plotting\n",
    "drinks.groupby('continent').mean().plot(kind='bar')"
   ],
   "metadata": {
    "colab": {
     "base_uri": "https://localhost:8080/",
     "height": 1000
    },
    "id": "ztGfaMymgUTC",
    "outputId": "0caf8061-c19a-485b-b1fc-fe80c7703fe1",
    "ExecuteTime": {
     "end_time": "2024-01-14T06:07:23.313849900Z",
     "start_time": "2024-01-14T06:07:23.312845500Z"
    }
   },
   "execution_count": null,
   "outputs": []
  },
  {
   "cell_type": "code",
   "source": [
    "# Some useful methods\n",
    "movies=pd.read_csv(\"http://bit.ly/imdbratings\")\n",
    "\n",
    "print(movies.genre.value_counts())\n",
    "print(movies.genre.value_counts(normalize=True)) # provides percentage\n",
    "\n",
    "print(pd.crosstab(movies.genre,movies.content_rating)) # provides a table that actually provides the tally of how many of the movies of a particular genre and a particular content rating\n",
    "print(movies.duration.plot(kind='hist'))\n",
    "#print(movies .genre.value_counts().plot(kind='bar'))"
   ],
   "metadata": {
    "id": "ELY3pSk7ib27",
    "colab": {
     "base_uri": "https://localhost:8080/",
     "height": 1000
    },
    "outputId": "41dba1d8-598a-40c0-a220-ff222a79a082",
    "ExecuteTime": {
     "start_time": "2024-01-14T06:07:23.314850600Z"
    }
   },
   "execution_count": null,
   "outputs": []
  },
  {
   "cell_type": "code",
   "source": [
    "# How to handle missing data in pandas\n",
    "\n",
    "ufo = pd.read_csv(\"http://bit.ly/uforeports\")\n",
    "\n",
    "# any NaN value is implying that the value is missing there\n",
    "\n",
    "print(ufo.isnull().tail()) # where ever true means a NaN detected\n",
    "# using notnull() will give inverse value\n",
    "print(ufo.isnull().sum()) # provides number of missing values in each of the columns\n",
    "# above can be undeerstood as True as 1 and false as 0\n",
    "# and thus sum just sums all the trues to give us the value\n",
    "print(ufo[ufo.City.isnull()]) # can filter out the missing rows here\n",
    "\n",
    "# droping missing values\n",
    "print(ufo.dropna(how='any').shape) # drop the row if any of the value is missing\n",
    "print(ufo.dropna(how='all').shape) # drop the row if all of the value is missing\n",
    "print(ufo.dropna(subset=['City','Shape Reported'],how='any').shape) # drop the row if any of the subset of the value is missing\n",
    "print(ufo.dropna(subset=['City','Shape Reported'],how='all').shape) # drop the row if all of the subset of the value is missing\n",
    "\n",
    "# filling missing values\n",
    "ufo['Shape Reported'].fillna(value='VARIOUS',inplace=True)\n",
    "\n",
    "# checking the value count for NaN values as well\n",
    "print(ufo['Shape Reported'].value_counts(dropna=False))"
   ],
   "metadata": {
    "colab": {
     "base_uri": "https://localhost:8080/"
    },
    "id": "wKC2Xndkd0de",
    "outputId": "a435bd6b-a083-4161-affd-d98a1b2e7f84",
    "ExecuteTime": {
     "end_time": "2024-01-14T06:07:23.324005600Z",
     "start_time": "2024-01-14T06:07:23.316897100Z"
    }
   },
   "execution_count": null,
   "outputs": []
  },
  {
   "cell_type": "code",
   "source": [
    "# Pandas Indexing\n",
    "drinks=pd.read_csv('http://bit.ly/drinksbycountry')\n",
    "\n",
    "print(drinks.index) # represents the row labels\n",
    "print(drinks.columns)\n",
    "\n",
    "# index helps us in unique identification of each row\n",
    "# index can be used to select a row or a value using loc\n",
    "\n",
    "# But still question remains why index?\n",
    "# Index is used specifically as it cant be changed to some other column\n",
    "drinks.set_index('country',inplace=True)\n",
    "print(drinks.head())\n",
    "\n",
    "# index name can be removed by\n",
    "drinks.index.name=None\n",
    "print(drinks.head())\n",
    "\n",
    "# to reset the changes\n",
    "drinks.index.name='country'\n",
    "drinks.reset_index(inplace=True)\n",
    "print(drinks.head())\n",
    "\n",
    "# using cols and indices we can use it to pull out important info\n",
    "print(drinks.describe().loc['25%','beer_servings'])\n",
    "\n",
    "# Lets observe how do a series of a dataframe obtains its indices\n",
    "drinks.set_index('country',inplace=True)\n",
    "print(drinks.continent.head()) # We observe that the default 0,1,... was changed to the index of the dataframe\n",
    "\n",
    "# Thus in many of the used cases what we actually got were panda series which could be used to do many further operations\n",
    "print(drinks.continent.value_counts().sort_index()) # used to sort a series by index\n",
    "\n",
    "# Alignment\n",
    "people=pd.Series([3000000,85000],index=['Albania','Andorra'],name='population')\n",
    "print(drinks.beer_servings * people) # we clearly see that the multiplication leads to multiplication of values only when the index is same\n",
    "\n",
    "# we can also concat the people column to the drinks dataframe\n",
    "pd.concat([drinks,people],axis=1).head()"
   ],
   "metadata": {
    "colab": {
     "base_uri": "https://localhost:8080/",
     "height": 1000
    },
    "id": "9ZWjfot_2Kfg",
    "outputId": "e9609bd8-ec49-4dce-9882-9cce0592e7e2",
    "ExecuteTime": {
     "start_time": "2024-01-14T06:07:23.317922700Z"
    }
   },
   "execution_count": null,
   "outputs": []
  }
 ]
}
